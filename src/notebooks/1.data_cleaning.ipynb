{
 "cells": [
  {
   "cell_type": "markdown",
   "metadata": {},
   "source": [
    "# Data Merging and Cleaning \n",
    "\n",
    "Let's merge the previous csv files in order to have one dataframe containing all data on a player for a given year. We will also delete any unnecessary statistics."
   ]
  },
  {
   "cell_type": "code",
   "execution_count": 4,
   "metadata": {},
   "outputs": [],
   "source": [
    "import pandas as pd\n",
    "import os"
   ]
  },
  {
   "cell_type": "code",
   "execution_count": 5,
   "metadata": {},
   "outputs": [],
   "source": [
    "YEAR = []\n",
    "\n",
    "for year in range(1976,2020):\n",
    "    YEAR.append(year)"
   ]
  },
  {
   "cell_type": "markdown",
   "metadata": {},
   "source": [
    "We need a dictionary of abbreviations to full team names. This will be tedious but we will need it for later when we try and match a player to their team's standings."
   ]
  },
  {
   "cell_type": "code",
   "execution_count": 58,
   "metadata": {},
   "outputs": [],
   "source": [
    "team_dict = {\n",
    "    \"ATL\": \"Atlanta Hawks\", \"BOS\": \"Boston Celtics\", \"BRK\": \"Brooklyn Nets\",\n",
    "    \"BUF\": \"Buffalo Braves\", \"CHA\": \"Charlotte Bobcats\", \"CHH\": \"Charlotte Hornets\",\n",
    "    \"CHI\": \"Chicago Bulls\", \"CHO\": \"Charlotte Hornets\", \"CLE\": \"Cleveland Cavaliers\",\n",
    "    \"DAL\": \"Dallas Mavericks\", \"DEN\": \"Denver Nuggets\", \"DET\": \"Detroit Pistons\",\n",
    "    \"GSW\": \"Golden State Warriors\", \"HOU\": \"Houston Rockets\", \"IND\": \"Indiana Pacers\",\n",
    "    \"LAC\": \"Los Angeles Clippers\", \"LAL\": \"Los Angeles Lakers\", \"MEM\": \"Memphis Grizzlies\",\n",
    "    \"MIA\": \"Miami Heat\", \"MIL\": \"Milwaukee Bucks\", \"MIN\": \"Minnesota Timberwolves\",\n",
    "    \"NJN\": \"New Jersey Nets\", \"NOH\": \"New Orleans Hornets\", \"NOJ\": \"New Orleans Jazz\",\n",
    "    \"NOK\": \"New Orleans/Oklahoma City Hornets\", \"NOP\": \"New Orleans Pelicans\", \"NYK\": \"New York Knicks\", \n",
    "    \"NYN\": \"New York Nets\", \"OKC\": \"Oklahoma City Thunder\", \"ORL\": \"Orlando Magic\", \n",
    "    \"PHI\": \"Philadelphia 76ers\", \"PHO\": \"Phoenix Suns\", \"POR\": \"Portland Trail Blazers\", \n",
    "    \"SAC\": \"Sacramento Kings\", \"SAS\": \"San Antonio Spurs\", \"SDC\": \"San Diego Clippers\", \n",
    "    \"SEA\": \"Seattle SuperSonics\", \"TOR\": \"Toronto Raptors\", \"UTA\": \"Utah Jazz\", \n",
    "    \"VAN\": \"Vancouver Grizzlies\", \"WAS\": \"Washington Wizards\", \"WSB\": \"Washington Bullets\", \n",
    "    \"KCK\": \"Kansas City Kings\"\n",
    "}"
   ]
  },
  {
   "cell_type": "code",
   "execution_count": 64,
   "metadata": {},
   "outputs": [],
   "source": [
    "# for i in tqdm(range(len(YEAR))):\n",
    "\n",
    "i = 2011\n",
    "\n",
    "#================= per_game ===================#\n",
    "df_per_game = pd.read_csv('..\\\\..\\\\input\\\\per_game' + '\\\\{}-per_game.csv'.format(i))\n",
    "\n",
    "#================= advanced ===================#\n",
    "df_advanced = pd.read_csv('..\\\\..\\\\input\\\\advanced' + '\\\\{}-advanced.csv'.format(i))\n",
    "\n",
    "#================= standings ===================#\n",
    "df_standings = pd.read_csv('..\\\\..\\\\input\\\\standings' + '\\\\{}-standings.csv'.format(i))\n",
    "\n",
    "# combine per game data with advanced stats data\n",
    "df_combined = pd.concat([df_per_game,df_advanced], axis=1)\n",
    "\n",
    "# drop duplicate column values\n",
    "df_combined = df_combined.loc[:,~df_combined.columns.duplicated()]\n",
    "\n",
    "# if player has been traded during the season keep statistics for the different teams\n",
    "# delete total statistics\n",
    "df_combined = df_combined[df_combined.Tm != 'TOT']\n",
    "\n",
    "# delete any unnecessary statistics\n",
    "# shots/shots attempted isn't needed as we already have percentages\n",
    "# mvp's will always start their games\n",
    "# offensive/defensive rebounds are covered in total rebounds\n",
    "del df_combined['G']\n",
    "del df_combined['GS']\n",
    "del df_combined['FG']\n",
    "del df_combined['FGA']\n",
    "del df_combined['3P']\n",
    "del df_combined['3PA']\n",
    "del df_combined['2P']\n",
    "del df_combined['2PA']\n",
    "del df_combined['FT']\n",
    "del df_combined['FTA']\n",
    "del df_combined['ORB']\n",
    "del df_combined['DRB']\n",
    "\n",
    "# delete empty columns and rows\n",
    "df_combined = df_combined.drop(df_combined.columns[30], axis=1)\n",
    "df_combined = df_combined.drop(df_combined.columns[34], axis=1)\n",
    "df_combined = df_combined.dropna(axis=0)\n",
    "\n",
    "# reset index\n",
    "df_combined = df_combined.reset_index()\n",
    "del df_combined[\"index\"]\n",
    "\n",
    "# next add a column on whether or not the player's team made the playoffs or had a losing season\n",
    "# also add the team's record\n",
    "\n",
    "team_name = []\n",
    "team_wins = []\n",
    "team_playoffs = []\n",
    "\n",
    "# change the corresponding team abbreviation to the team's full name using team_dict\n",
    "for i in range(len(df_combined[\"Tm\"])):\n",
    "    team_name.append(team_dict[df_combined[\"Tm\"][i]])\n",
    "\n",
    "# implement changes to combined dataframe\n",
    "df_combined['Tm'] = team_name\n",
    "\n",
    "# populate team wins and team playoffs using data from df_standings\n",
    "for i in range(len(df_combined[\"Tm\"])):\n",
    "    team_wins.append(df_standings.loc[df_standings['Team'] == df_combined[\"Tm\"][i]]['W'].tolist()[0])\n",
    "    team_playoffs.append(df_standings.loc[df_standings['Team'] == df_combined[\"Tm\"][i]]['Playoffs'].tolist()[0])\n",
    "    \n",
    "# create columns record and playoffs\n",
    "df_combined['Record'] = team_wins\n",
    "df_combined['Playoffs'] = team_playoffs\n",
    "\n",
    "df_combined.to_csv('..\\\\full_data_4.csv')"
   ]
  },
  {
   "cell_type": "code",
   "execution_count": null,
   "metadata": {},
   "outputs": [],
   "source": []
  }
 ],
 "metadata": {
  "kernelspec": {
   "display_name": "Python 3",
   "language": "python",
   "name": "python3"
  },
  "language_info": {
   "codemirror_mode": {
    "name": "ipython",
    "version": 3
   },
   "file_extension": ".py",
   "mimetype": "text/x-python",
   "name": "python",
   "nbconvert_exporter": "python",
   "pygments_lexer": "ipython3",
   "version": "3.8.5"
  }
 },
 "nbformat": 4,
 "nbformat_minor": 4
}
