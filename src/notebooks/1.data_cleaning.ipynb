{
 "cells": [
  {
   "cell_type": "markdown",
   "metadata": {},
   "source": [
    "# Data Merging and Cleaning \n",
    "\n",
    "Let's merge the previous csv files in order to have one dataframe containing all data on a player for a given year. We will also delete any unnecessary statistics."
   ]
  },
  {
   "cell_type": "code",
   "execution_count": 4,
   "metadata": {},
   "outputs": [],
   "source": [
    "import pandas as pd\n",
    "import os"
   ]
  },
  {
   "cell_type": "code",
   "execution_count": 5,
   "metadata": {},
   "outputs": [],
   "source": [
    "YEAR = []\n",
    "\n",
    "for year in range(1976,2020):\n",
    "    YEAR.append(year)"
   ]
  },
  {
   "cell_type": "markdown",
   "metadata": {},
   "source": [
    "We need a dictionary of abbreviations to full team names. This will be tedious but we will need it for later when we try and match a player to their team's standings."
   ]
  },
  {
   "cell_type": "code",
   "execution_count": 9,
   "metadata": {},
   "outputs": [
    {
     "name": "stdout",
     "output_type": "stream",
     "text": [
      "DEN\n"
     ]
    }
   ],
   "source": [
    "team_dict = {\n",
    "    \"ATL\": \"Atlanta Hawks\", \"BOS\": \"Boston Celtics\", \"BRK\": \"Brooklyn Nets\",\n",
    "    \"BUF\": \"Buffalo Braves\", \"CHA\": \"Charlotte Hornets\", \"CHH\": \"Charlotte Hornets\",\n",
    "    \"CHI\": \"Chicago Bulls\", \"CHO\": \"Charlotte Hornets\", \"CLE\": \"Cleveland Cavaliers\",\n",
    "    \"DAL\": \"Dallas Mavericks\", \"DEN\": \"Denver Nuggets\", \"DET\": \"Detroit Pistons\",\n",
    "    \"GSW\": \"Golden State Warriors\", \"HOU\": \"Houston Rockets\", \"IND\": \"Indiana Pacers\",\n",
    "    \"LAC\": \"Los Angeles Clippers\", \"LAL\": \"Los Angeles Lakers\", \"MEM\": \"Memphis Grizzlies\",\n",
    "    \"MIA\": \"Miami Heat\", \"MIL\": \"Milwaukee Bucks\", \"MIN\": \"Minnesota Timberwolves\",\n",
    "    \"NJN\": \"New Jersey Nets\", \"NOH\": \"New Orleans Hornets\", \"NOJ\": \"New Orleans Jazz\",\n",
    "    \"NOK\": \"New Orleans/Oklahoma City Hornets\", \"NOP\": \"New Orleans Pelicans\", \"NYK\": \"New York Knicks\", \n",
    "    \"NYN\": \"New York Nets\", \"OKC\": \"Oklahoma City Thunder\", \"ORL\": \"Orlando Magic\", \n",
    "    \"PHI\": \"Philadelphia 76ers\", \"PHO\": \"Phoenix Suns\", \"POR\": \"Portland Trailblazers\", \n",
    "    \"SAC\": \"Sacramento Kings\", \"SAS\": \"San Antonio Spurs\", \"SDC\": \"San Diego Clippers\", \n",
    "    \"SEA\": \"Seattle SuperSonics\", \"TOR\": \"Toronto Raptors\", \"UTA\": \"Utah Jazz\", \n",
    "    \"VAN\": \"Vancouver Grizzlies\", \"WAS\": \"Washington Wizards\", \"WSB\": \"Washington Bullets\", \n",
    "    \"KCK\": \"Kansas City Kings\"\n",
    "}\n",
    "\n",
    "print(df_combined[\"Tm\"][1])"
   ]
  },
  {
   "cell_type": "code",
   "execution_count": 19,
   "metadata": {},
   "outputs": [
    {
     "ename": "KeyError",
     "evalue": "2",
     "output_type": "error",
     "traceback": [
      "\u001b[1;31m---------------------------------------------------------------------------\u001b[0m",
      "\u001b[1;31mKeyError\u001b[0m                                  Traceback (most recent call last)",
      "\u001b[1;32m~\\anaconda3\\lib\\site-packages\\pandas\\core\\indexes\\base.py\u001b[0m in \u001b[0;36mget_loc\u001b[1;34m(self, key, method, tolerance)\u001b[0m\n\u001b[0;32m   2894\u001b[0m             \u001b[1;32mtry\u001b[0m\u001b[1;33m:\u001b[0m\u001b[1;33m\u001b[0m\u001b[1;33m\u001b[0m\u001b[0m\n\u001b[1;32m-> 2895\u001b[1;33m                 \u001b[1;32mreturn\u001b[0m \u001b[0mself\u001b[0m\u001b[1;33m.\u001b[0m\u001b[0m_engine\u001b[0m\u001b[1;33m.\u001b[0m\u001b[0mget_loc\u001b[0m\u001b[1;33m(\u001b[0m\u001b[0mcasted_key\u001b[0m\u001b[1;33m)\u001b[0m\u001b[1;33m\u001b[0m\u001b[1;33m\u001b[0m\u001b[0m\n\u001b[0m\u001b[0;32m   2896\u001b[0m             \u001b[1;32mexcept\u001b[0m \u001b[0mKeyError\u001b[0m \u001b[1;32mas\u001b[0m \u001b[0merr\u001b[0m\u001b[1;33m:\u001b[0m\u001b[1;33m\u001b[0m\u001b[1;33m\u001b[0m\u001b[0m\n",
      "\u001b[1;32mpandas\\_libs\\index.pyx\u001b[0m in \u001b[0;36mpandas._libs.index.IndexEngine.get_loc\u001b[1;34m()\u001b[0m\n",
      "\u001b[1;32mpandas\\_libs\\index.pyx\u001b[0m in \u001b[0;36mpandas._libs.index.IndexEngine.get_loc\u001b[1;34m()\u001b[0m\n",
      "\u001b[1;32mpandas\\_libs\\hashtable_class_helper.pxi\u001b[0m in \u001b[0;36mpandas._libs.hashtable.Int64HashTable.get_item\u001b[1;34m()\u001b[0m\n",
      "\u001b[1;32mpandas\\_libs\\hashtable_class_helper.pxi\u001b[0m in \u001b[0;36mpandas._libs.hashtable.Int64HashTable.get_item\u001b[1;34m()\u001b[0m\n",
      "\u001b[1;31mKeyError\u001b[0m: 2",
      "\nThe above exception was the direct cause of the following exception:\n",
      "\u001b[1;31mKeyError\u001b[0m                                  Traceback (most recent call last)",
      "\u001b[1;32m<ipython-input-19-647b69ef0e4d>\u001b[0m in \u001b[0;36m<module>\u001b[1;34m\u001b[0m\n\u001b[0;32m     47\u001b[0m \u001b[1;33m\u001b[0m\u001b[0m\n\u001b[0;32m     48\u001b[0m \u001b[1;32mfor\u001b[0m \u001b[0mi\u001b[0m \u001b[1;32min\u001b[0m \u001b[0mrange\u001b[0m\u001b[1;33m(\u001b[0m\u001b[1;36m1\u001b[0m\u001b[1;33m,\u001b[0m\u001b[0mlen\u001b[0m\u001b[1;33m(\u001b[0m\u001b[0mdf_combined\u001b[0m\u001b[1;33m[\u001b[0m\u001b[1;34m\"Tm\"\u001b[0m\u001b[1;33m]\u001b[0m\u001b[1;33m)\u001b[0m\u001b[1;33m-\u001b[0m\u001b[1;36m1\u001b[0m\u001b[1;33m)\u001b[0m\u001b[1;33m:\u001b[0m\u001b[1;33m\u001b[0m\u001b[1;33m\u001b[0m\u001b[0m\n\u001b[1;32m---> 49\u001b[1;33m     \u001b[0mteam_wins\u001b[0m\u001b[1;33m.\u001b[0m\u001b[0mappend\u001b[0m\u001b[1;33m(\u001b[0m\u001b[0mteam_dict\u001b[0m\u001b[1;33m[\u001b[0m\u001b[0mdf_combined\u001b[0m\u001b[1;33m[\u001b[0m\u001b[1;34m\"Tm\"\u001b[0m\u001b[1;33m]\u001b[0m\u001b[1;33m[\u001b[0m\u001b[0mi\u001b[0m\u001b[1;33m]\u001b[0m\u001b[1;33m]\u001b[0m\u001b[1;33m)\u001b[0m\u001b[1;33m\u001b[0m\u001b[1;33m\u001b[0m\u001b[0m\n\u001b[0m\u001b[0;32m     50\u001b[0m \u001b[1;33m\u001b[0m\u001b[0m\n\u001b[0;32m     51\u001b[0m \u001b[1;31m# print(team_dict[df_combined[\"Tm\"][0]])\u001b[0m\u001b[1;33m\u001b[0m\u001b[1;33m\u001b[0m\u001b[1;33m\u001b[0m\u001b[0m\n",
      "\u001b[1;32m~\\anaconda3\\lib\\site-packages\\pandas\\core\\series.py\u001b[0m in \u001b[0;36m__getitem__\u001b[1;34m(self, key)\u001b[0m\n\u001b[0;32m    880\u001b[0m \u001b[1;33m\u001b[0m\u001b[0m\n\u001b[0;32m    881\u001b[0m         \u001b[1;32melif\u001b[0m \u001b[0mkey_is_scalar\u001b[0m\u001b[1;33m:\u001b[0m\u001b[1;33m\u001b[0m\u001b[1;33m\u001b[0m\u001b[0m\n\u001b[1;32m--> 882\u001b[1;33m             \u001b[1;32mreturn\u001b[0m \u001b[0mself\u001b[0m\u001b[1;33m.\u001b[0m\u001b[0m_get_value\u001b[0m\u001b[1;33m(\u001b[0m\u001b[0mkey\u001b[0m\u001b[1;33m)\u001b[0m\u001b[1;33m\u001b[0m\u001b[1;33m\u001b[0m\u001b[0m\n\u001b[0m\u001b[0;32m    883\u001b[0m \u001b[1;33m\u001b[0m\u001b[0m\n\u001b[0;32m    884\u001b[0m         \u001b[1;32mif\u001b[0m \u001b[0mis_hashable\u001b[0m\u001b[1;33m(\u001b[0m\u001b[0mkey\u001b[0m\u001b[1;33m)\u001b[0m\u001b[1;33m:\u001b[0m\u001b[1;33m\u001b[0m\u001b[1;33m\u001b[0m\u001b[0m\n",
      "\u001b[1;32m~\\anaconda3\\lib\\site-packages\\pandas\\core\\series.py\u001b[0m in \u001b[0;36m_get_value\u001b[1;34m(self, label, takeable)\u001b[0m\n\u001b[0;32m    987\u001b[0m \u001b[1;33m\u001b[0m\u001b[0m\n\u001b[0;32m    988\u001b[0m         \u001b[1;31m# Similar to Index.get_value, but we do not fall back to positional\u001b[0m\u001b[1;33m\u001b[0m\u001b[1;33m\u001b[0m\u001b[1;33m\u001b[0m\u001b[0m\n\u001b[1;32m--> 989\u001b[1;33m         \u001b[0mloc\u001b[0m \u001b[1;33m=\u001b[0m \u001b[0mself\u001b[0m\u001b[1;33m.\u001b[0m\u001b[0mindex\u001b[0m\u001b[1;33m.\u001b[0m\u001b[0mget_loc\u001b[0m\u001b[1;33m(\u001b[0m\u001b[0mlabel\u001b[0m\u001b[1;33m)\u001b[0m\u001b[1;33m\u001b[0m\u001b[1;33m\u001b[0m\u001b[0m\n\u001b[0m\u001b[0;32m    990\u001b[0m         \u001b[1;32mreturn\u001b[0m \u001b[0mself\u001b[0m\u001b[1;33m.\u001b[0m\u001b[0mindex\u001b[0m\u001b[1;33m.\u001b[0m\u001b[0m_get_values_for_loc\u001b[0m\u001b[1;33m(\u001b[0m\u001b[0mself\u001b[0m\u001b[1;33m,\u001b[0m \u001b[0mloc\u001b[0m\u001b[1;33m,\u001b[0m \u001b[0mlabel\u001b[0m\u001b[1;33m)\u001b[0m\u001b[1;33m\u001b[0m\u001b[1;33m\u001b[0m\u001b[0m\n\u001b[0;32m    991\u001b[0m \u001b[1;33m\u001b[0m\u001b[0m\n",
      "\u001b[1;32m~\\anaconda3\\lib\\site-packages\\pandas\\core\\indexes\\base.py\u001b[0m in \u001b[0;36mget_loc\u001b[1;34m(self, key, method, tolerance)\u001b[0m\n\u001b[0;32m   2895\u001b[0m                 \u001b[1;32mreturn\u001b[0m \u001b[0mself\u001b[0m\u001b[1;33m.\u001b[0m\u001b[0m_engine\u001b[0m\u001b[1;33m.\u001b[0m\u001b[0mget_loc\u001b[0m\u001b[1;33m(\u001b[0m\u001b[0mcasted_key\u001b[0m\u001b[1;33m)\u001b[0m\u001b[1;33m\u001b[0m\u001b[1;33m\u001b[0m\u001b[0m\n\u001b[0;32m   2896\u001b[0m             \u001b[1;32mexcept\u001b[0m \u001b[0mKeyError\u001b[0m \u001b[1;32mas\u001b[0m \u001b[0merr\u001b[0m\u001b[1;33m:\u001b[0m\u001b[1;33m\u001b[0m\u001b[1;33m\u001b[0m\u001b[0m\n\u001b[1;32m-> 2897\u001b[1;33m                 \u001b[1;32mraise\u001b[0m \u001b[0mKeyError\u001b[0m\u001b[1;33m(\u001b[0m\u001b[0mkey\u001b[0m\u001b[1;33m)\u001b[0m \u001b[1;32mfrom\u001b[0m \u001b[0merr\u001b[0m\u001b[1;33m\u001b[0m\u001b[1;33m\u001b[0m\u001b[0m\n\u001b[0m\u001b[0;32m   2898\u001b[0m \u001b[1;33m\u001b[0m\u001b[0m\n\u001b[0;32m   2899\u001b[0m         \u001b[1;32mif\u001b[0m \u001b[0mtolerance\u001b[0m \u001b[1;32mis\u001b[0m \u001b[1;32mnot\u001b[0m \u001b[1;32mNone\u001b[0m\u001b[1;33m:\u001b[0m\u001b[1;33m\u001b[0m\u001b[1;33m\u001b[0m\u001b[0m\n",
      "\u001b[1;31mKeyError\u001b[0m: 2"
     ]
    }
   ],
   "source": [
    "# for i in tqdm(range(len(YEAR))):\n",
    "\n",
    "i = 2011\n",
    "\n",
    "#================= per_game ===================#\n",
    "df_per_game = pd.read_csv('..\\\\..\\\\input\\\\per_game' + '\\\\{}-per_game.csv'.format(i))\n",
    "\n",
    "#================= advanced ===================#\n",
    "df_advanced = pd.read_csv('..\\\\..\\\\input\\\\advanced' + '\\\\{}-advanced.csv'.format(i))\n",
    "\n",
    "# combine per game data with advanced stats data\n",
    "df_combined = pd.concat([df_per_game,df_advanced], axis=1)\n",
    "\n",
    "# drop duplicate column values\n",
    "df_combined = df_combined.loc[:,~df_combined.columns.duplicated()]\n",
    "\n",
    "# if player has been traded during the season keep statistics for the different teams\n",
    "# delete total statistics\n",
    "df_combined = df_combined[df_combined.Tm != 'TOT']\n",
    "\n",
    "# delete any unnecessary statistics\n",
    "# shots/shots attempted isn't needed as we already have percentages\n",
    "# mvp's will always start their games\n",
    "# offensive/defensive rebounds are covered in total rebounds\n",
    "del df_combined['G']\n",
    "del df_combined['GS']\n",
    "del df_combined['FG']\n",
    "del df_combined['FGA']\n",
    "del df_combined['3P']\n",
    "del df_combined['3PA']\n",
    "del df_combined['2P']\n",
    "del df_combined['2PA']\n",
    "del df_combined['FT']\n",
    "del df_combined['FTA']\n",
    "del df_combined['ORB']\n",
    "del df_combined['DRB']\n",
    "\n",
    "# delete empty columns and rows\n",
    "df_combined = df_combined.drop(df_combined.columns[30], axis=1)\n",
    "df_combined = df_combined.drop(df_combined.columns[34], axis=1)\n",
    "df_combined = df_combined.dropna(axis=0)\n",
    "\n",
    "# next add a column on whether or not the player's team made the playoffs or had a losing season\n",
    "# use team dict\n",
    "\n",
    "team_wins = []\n",
    "\n",
    "for i in range(1,len(df_combined[\"Tm\"])):\n",
    "    team_wins.append(team_dict[df_combined[\"Tm\"][i]])\n",
    "\n",
    "# print(team_dict[df_combined[\"Tm\"][0]])\n",
    "\n",
    "df_combined.to_csv('..\\\\full_data_3.csv')"
   ]
  },
  {
   "cell_type": "code",
   "execution_count": null,
   "metadata": {},
   "outputs": [],
   "source": []
  }
 ],
 "metadata": {
  "kernelspec": {
   "display_name": "Python 3",
   "language": "python",
   "name": "python3"
  },
  "language_info": {
   "codemirror_mode": {
    "name": "ipython",
    "version": 3
   },
   "file_extension": ".py",
   "mimetype": "text/x-python",
   "name": "python",
   "nbconvert_exporter": "python",
   "pygments_lexer": "ipython3",
   "version": "3.8.5"
  }
 },
 "nbformat": 4,
 "nbformat_minor": 4
}
