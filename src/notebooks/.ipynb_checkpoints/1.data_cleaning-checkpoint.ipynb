{
 "cells": [
  {
   "cell_type": "markdown",
   "metadata": {},
   "source": [
    "# Data Merging and Cleaning \n",
    "\n",
    "Let's merge the previous csv files in order to have one dataframe containing all data on a player for a given year. We will also delete any unnecessary statistics."
   ]
  },
  {
   "cell_type": "code",
   "execution_count": 1,
   "metadata": {},
   "outputs": [],
   "source": [
    "import pandas as pd\n",
    "import os"
   ]
  },
  {
   "cell_type": "code",
   "execution_count": 2,
   "metadata": {},
   "outputs": [],
   "source": [
    "YEAR = []\n",
    "\n",
    "for year in range(1976,2020):\n",
    "    YEAR.append(year)"
   ]
  },
  {
   "cell_type": "markdown",
   "metadata": {},
   "source": [
    "We need a dictionary of abbreviations to full team names. This will be tedious but we will need it for later when we try and match a player to their team's standings."
   ]
  },
  {
   "cell_type": "code",
   "execution_count": 82,
   "metadata": {},
   "outputs": [],
   "source": [
    "team_dict = {\n",
    "    \"ATL\": \"Atlanta Hawks\", \"BOS\": \"Boston Celtics\", \"BRK\": \"Brooklyn Nets\",\n",
    "    \"BUF\": \"Buffalo Braves\", \"CHA\": \"Charlotte Hornets\", \"CHH\": \"Charlotte Hornets\",\n",
    "    \"CHI\": \"Chicago Bulls\", \"CHO\": \"Charlotte Hornets\", \"CLE\": \"Cleveland Cavaliers\",\n",
    "    \"DAL\": \"Dallas Mavericks\", \"DEN\": \"Denver Nuggets\", \"DET\": \"Detroit Pistons\",\n",
    "    \"GSW\": \"Golden State Warriors\", \"HOU\": \"Houston Rockets\", \"IND\": \"Indiana Pacers\",\n",
    "    \"LAC\": \"Los Angeles Clippers\", \"LAL\": \"Los Angeles Lakers\", \"MEM\": \"Memphis Grizzlies\",\n",
    "    \"MIA\": \"Miami Heat\", \"MIL\": \"Milwaukee Bucks\", \"MIN\": \"Minnesota Timberwolves\",\n",
    "    \"NJN\": \"New Jersey Nets\", \"NOH\": \"New Orleans Hornets\", \"NOJ\": \"New Orleans Jazz\",\n",
    "    \"NOK\": \"New Orleans/Oklahoma City Hornets\", \"NOP\": \"New Orleans Pelicans\", \"NYK\": \"New York Knicks\", \n",
    "    \"NYN\": \"New York Nets\", \"OKC\": \"Oklahoma City Thunder\", \"ORL\": \"Orlando Magic\", \n",
    "    \"PHI\": \"Philadelphia 76ers\", \"PHO\": \"Phoenix Suns\", \"POR\": \"Portland Trailblazers\", \n",
    "    \"SAC\": \"Sacramento Kings\", \"SAS\": \"San Antonio Spurs\", \"SDC\": \"San Diego Clippers\", \n",
    "    \"SEA\": \"Seattle SuperSonics\", \"TOR\": \"Toronto Raptors\", \"UTA\": \"Utah Jazz\", \n",
    "    \"VAN\": \"Vancouver Grizzlies\", \"WAS\": \"Washington Wizards\", \"WSB\": \"Washington Bullets\", \n",
    "    \"KCK\": \"Kansas City Kings\"\n",
    "}"
   ]
  },
  {
   "cell_type": "code",
   "execution_count": 83,
   "metadata": {},
   "outputs": [
    {
     "name": "stdout",
     "output_type": "stream",
     "text": [
      "    Unnamed: 0             Player Pos   Age   Tm    MP    FG%    3P%    2P%  \\\n",
      "1            1      Arron Afflalo  SG  25.0  DEN  33.7  0.498  0.423  0.546   \n",
      "4            4      Alexis Ajinça   C  22.0  DAL   7.5  0.375  0.429  0.360   \n",
      "5            5      Alexis Ajinça   C  22.0  TOR  11.0  0.465  0.333  0.514   \n",
      "8            8  LaMarcus Aldridge  PF  25.0  POR  39.6  0.500  0.174  0.505   \n",
      "10          10         Ray Allen*  SG  35.0  BOS  36.1  0.491  0.444  0.520   \n",
      "\n",
      "     eFG%  ...  TOV%  USG%  OWS  DWS    WS  WS/48  OBPM  DBPM  BPM  VORP  \n",
      "1   0.581  ...   9.2  14.8  4.8  1.4   6.2  0.128   1.7  -0.3  1.4   2.0  \n",
      "4   0.422  ...   2.9  21.4  0.0  0.1   0.1  0.084  -3.4   0.5 -2.9   0.0  \n",
      "5   0.510  ...  13.6  21.1  0.0  0.2   0.2  0.042  -3.8  -0.2 -4.1  -0.1  \n",
      "8   0.501  ...   8.7  25.7  7.6  3.5  11.1  0.166   2.6  -0.5  2.1   3.4  \n",
      "10  0.577  ...   9.8  19.8  5.8  4.2  10.0  0.166   2.3   0.6  2.9   3.6  \n",
      "\n",
      "[5 rows x 38 columns]\n"
     ]
    }
   ],
   "source": [
    "# for i in tqdm(range(len(YEAR))):\n",
    "\n",
    "i = 2011\n",
    "\n",
    "#================= per_game ===================#\n",
    "df_per_game = pd.read_excel('..\\\\..\\\\input\\\\per_game' + '\\\\{}-per_game.xlsx'.format(i))\n",
    "\n",
    "#================= advanced ===================#\n",
    "df_advanced = pd.read_excel('..\\\\..\\\\input\\\\advanced' + '\\\\{}-advanced.xlsx'.format(i))\n",
    "\n",
    "# combine per game data with advanced stats data\n",
    "df_combined = pd.concat([df_per_game,df_advanced], axis=1)\n",
    "\n",
    "# drop duplicate column values\n",
    "df_combined = df_combined.loc[:,~df_combined.columns.duplicated()]\n",
    "\n",
    "# if player has been traded during the season keep statistics for the different teams\n",
    "# delete total statistics\n",
    "df_combined = df_combined[df_combined.Tm != 'TOT']\n",
    "\n",
    "# delete any unnecessary statistics\n",
    "# shots/shots attempted isn't needed as we already have percentages\n",
    "# mvp's will always start their games\n",
    "# offensive/defensive rebounds are covered in total rebounds\n",
    "del df_combined['G']\n",
    "del df_combined['GS']\n",
    "del df_combined['FG']\n",
    "del df_combined['FGA']\n",
    "del df_combined['3P']\n",
    "del df_combined['3PA']\n",
    "del df_combined['2P']\n",
    "del df_combined['2PA']\n",
    "del df_combined['FT']\n",
    "del df_combined['FTA']\n",
    "del df_combined['ORB']\n",
    "del df_combined['DRB']\n",
    "\n",
    "# delete empty columns and rows\n",
    "df_combined = df_combined.drop(df_combined.columns[30], axis=1)\n",
    "df_combined = df_combined.drop(df_combined.columns[34], axis=1)\n",
    "df_combined = df_combined.dropna(axis=0)\n",
    "\n",
    "# next add a column on whether or not the player's team made the playoffs or had a losing season\n",
    "# use team dict\n",
    "\n",
    "print(df_combined.head())\n",
    "\n",
    "df_combined.to_csv('..\\\\full_data_3.csv')"
   ]
  },
  {
   "cell_type": "code",
   "execution_count": null,
   "metadata": {},
   "outputs": [],
   "source": []
  }
 ],
 "metadata": {
  "kernelspec": {
   "display_name": "Python 3",
   "language": "python",
   "name": "python3"
  },
  "language_info": {
   "codemirror_mode": {
    "name": "ipython",
    "version": 3
   },
   "file_extension": ".py",
   "mimetype": "text/x-python",
   "name": "python",
   "nbconvert_exporter": "python",
   "pygments_lexer": "ipython3",
   "version": "3.8.5"
  }
 },
 "nbformat": 4,
 "nbformat_minor": 4
}
